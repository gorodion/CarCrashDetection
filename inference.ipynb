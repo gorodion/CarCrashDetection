{
 "cells": [
  {
   "cell_type": "code",
   "execution_count": 11,
   "metadata": {},
   "outputs": [
    {
     "data": {
      "text/plain": [
       "False"
      ]
     },
     "execution_count": 11,
     "metadata": {},
     "output_type": "execute_result"
    }
   ],
   "source": [
    "import cv2\n",
    "import numpy as np\n",
    "cv2.imwrite('a/b/c/d/a.jpg', np.random.randn(224,224,3))"
   ]
  },
  {
   "cell_type": "code",
   "execution_count": 3,
   "metadata": {},
   "outputs": [
    {
     "name": "stdout",
     "output_type": "stream",
     "text": [
      "\u001b[38;20m2022-01-16 23:04:12,097 - Car accident detection - processing /home/gorodion/dtp/test/1.mp4\u001b[0m\n",
      "\u001b[38;20m2022-01-16 23:04:23,681 - Car accident detection - current frame 300\u001b[0m\n",
      "accident confidence: 0.006944798398762941\n",
      "\u001b[38;20m2022-01-16 23:04:30,571 - Car accident detection - current frame 450\u001b[0m\n",
      "accident confidence: 0.008555564098060131\n",
      "\u001b[38;20m2022-01-16 23:04:37,512 - Car accident detection - current frame 600\u001b[0m\n",
      "accident confidence: 0.21667678654193878\n",
      "\u001b[38;20m2022-01-16 23:04:43,925 - Car accident detection - no accident found\u001b[0m\n",
      "\u001b[38;20m2022-01-16 23:04:43,935 - Car accident detection - processing /home/gorodion/dtp/test/15.mp4\u001b[0m\n",
      "\u001b[38;20m2022-01-16 23:04:48,417 - Car accident detection - current frame 300\u001b[0m\n",
      "accident confidence: 0.19793270528316498\n",
      "\u001b[38;20m2022-01-16 23:04:55,349 - Car accident detection - current frame 450\u001b[0m\n",
      "accident confidence: 0.18442274630069733\n",
      "\u001b[38;20m2022-01-16 23:05:02,029 - Car accident detection - current frame 600\u001b[0m\n",
      "accident confidence: 0.13210567831993103\n",
      "\u001b[38;20m2022-01-16 23:05:08,913 - Car accident detection - current frame 750\u001b[0m\n",
      "accident confidence: 0.0908520370721817\n",
      "\u001b[38;20m2022-01-16 23:05:15,422 - Car accident detection - no accident found\u001b[0m\n",
      "\u001b[38;20m2022-01-16 23:05:15,436 - Car accident detection - processing /home/gorodion/dtp/test/29.mp4\u001b[0m\n",
      "\u001b[38;20m2022-01-16 23:05:17,666 - Car accident detection - current frame 300\u001b[0m\n",
      "accident confidence: 0.9902585744857788\n",
      "main.py:45: DeprecationWarning: The 'warn' method is deprecated, use 'warning' instead\n",
      "  logger.warn(f'found accident on {mm:02d}:{ss:02d}')\n",
      "\u001b[33;20m2022-01-16 23:05:23,972 - Car accident detection - found accident on 00:10\u001b[0m\n",
      "main.py:61: DeprecationWarning: The 'warn' method is deprecated, use 'warning' instead\n",
      "  logger.warn('detecting cars')\n",
      "\u001b[33;20m2022-01-16 23:05:24,025 - Car accident detection - detecting cars\u001b[0m\n",
      "Using cache found in /home/gorodion/.cache/torch/hub/ultralytics_yolov5_master\n",
      "YOLOv5 🚀 8a703d9 torch 1.10.1+cu102 CUDA:0 (Tesla V100-PCIE-32GB, 32510MiB)\n",
      "\n",
      "Fusing layers... \n",
      "Model Summary: 484 layers, 88417530 parameters, 0 gradients\n",
      "Adding AutoShape... \n",
      "main.py:71: DeprecationWarning: The 'warn' method is deprecated, use 'warning' instead\n",
      "  logger.warn('accident and emergency found')\n",
      "\u001b[33;20m2022-01-16 23:05:38,579 - Car accident detection - accident and emergency found\u001b[0m\n",
      "accident and emergency found\n",
      "\u001b[38;20m2022-01-16 23:05:38,602 - Car accident detection - processing /home/gorodion/dtp/test/7.mp4\u001b[0m\n",
      "processing /home/gorodion/dtp/test/7.mp4\n",
      "\u001b[38;20m2022-01-16 23:05:41,137 - Car accident detection - current frame 300\u001b[0m\n",
      "current frame 300\n",
      "accident confidence: 0.5722850561141968\n",
      "\u001b[38;20m2022-01-16 23:05:47,837 - Car accident detection - current frame 450\u001b[0m\n",
      "current frame 450\n",
      "accident confidence: 0.5282499194145203\n",
      "\u001b[38;20m2022-01-16 23:05:54,680 - Car accident detection - current frame 600\u001b[0m\n",
      "current frame 600\n",
      "accident confidence: 0.6858171224594116\n",
      "\u001b[38;20m2022-01-16 23:06:01,350 - Car accident detection - current frame 750\u001b[0m\n",
      "current frame 750\n",
      "accident confidence: 0.6484120488166809\n",
      "\u001b[38;20m2022-01-16 23:06:08,098 - Car accident detection - current frame 900\u001b[0m\n",
      "current frame 900\n",
      "accident confidence: 0.6323460340499878\n",
      "\u001b[38;20m2022-01-16 23:06:14,806 - Car accident detection - current frame 1050\u001b[0m\n",
      "current frame 1050\n",
      "accident confidence: 0.5466763973236084\n",
      "\u001b[38;20m2022-01-16 23:06:21,067 - Car accident detection - no accident found\u001b[0m\n",
      "no accident found\n",
      "\u001b[38;20m2022-01-16 23:06:21,076 - Car accident detection - processing /home/gorodion/dtp/test/5.mp4\u001b[0m\n",
      "processing /home/gorodion/dtp/test/5.mp4\n",
      "\u001b[38;20m2022-01-16 23:06:23,246 - Car accident detection - current frame 300\u001b[0m\n",
      "current frame 300\n",
      "accident confidence: 0.9936614036560059\n",
      "main.py:45: DeprecationWarning: The 'warn' method is deprecated, use 'warning' instead\n",
      "  logger.warn(f'found accident on {mm:02d}:{ss:02d}')\n",
      "\u001b[33;20m2022-01-16 23:06:29,624 - Car accident detection - found accident on 00:10\u001b[0m\n",
      "found accident on 00:10\n",
      "main.py:61: DeprecationWarning: The 'warn' method is deprecated, use 'warning' instead\n",
      "  logger.warn('detecting cars')\n",
      "\u001b[33;20m2022-01-16 23:06:29,679 - Car accident detection - detecting cars\u001b[0m\n",
      "detecting cars\n",
      "Using cache found in /home/gorodion/.cache/torch/hub/ultralytics_yolov5_master\n",
      "YOLOv5 🚀 8a703d9 torch 1.10.1+cu102 CUDA:0 (Tesla V100-PCIE-32GB, 32510MiB)\n",
      "\n",
      "Fusing layers... \n",
      "Model Summary: 484 layers, 88417530 parameters, 0 gradients\n",
      "Adding AutoShape... \n",
      "main.py:71: DeprecationWarning: The 'warn' method is deprecated, use 'warning' instead\n",
      "  logger.warn('accident and emergency found')\n",
      "\u001b[33;20m2022-01-16 23:06:42,506 - Car accident detection - accident and emergency found\u001b[0m\n",
      "accident and emergency found\n"
     ]
    }
   ],
   "source": [
    "!python3 main.py --path ~/dtp/test"
   ]
  },
  {
   "cell_type": "code",
   "execution_count": 1,
   "metadata": {},
   "outputs": [],
   "source": [
    "!mkdir -p ~/dtp/test"
   ]
  },
  {
   "cell_type": "code",
   "execution_count": 8,
   "metadata": {},
   "outputs": [],
   "source": [
    "!cp ~/dtp/data/7.mp4 ~/dtp/test/"
   ]
  },
  {
   "cell_type": "code",
   "execution_count": null,
   "metadata": {},
   "outputs": [],
   "source": []
  }
 ],
 "metadata": {
  "kernelspec": {
   "display_name": "Python 3",
   "language": "python",
   "name": "python3"
  },
  "language_info": {
   "codemirror_mode": {
    "name": "ipython",
    "version": 3
   },
   "file_extension": ".py",
   "mimetype": "text/x-python",
   "name": "python",
   "nbconvert_exporter": "python",
   "pygments_lexer": "ipython3",
   "version": "3.7.3"
  }
 },
 "nbformat": 4,
 "nbformat_minor": 4
}
